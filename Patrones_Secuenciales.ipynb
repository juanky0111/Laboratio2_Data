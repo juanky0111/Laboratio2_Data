{
 "cells": [
  {
   "cell_type": "markdown",
   "metadata": {},
   "source": [
    "# Patrones Secuenciales"
   ]
  },
  {
   "cell_type": "markdown",
   "metadata": {},
   "source": [
    "## El conjunto de datos “Navegación_Web.csv” contiene clientes y las acciones que hace en una Web, teniendo estas asociadas un timestamp."
   ]
  },
  {
   "cell_type": "markdown",
   "metadata": {},
   "source": [
    "## Habrá que procesar el fichero para crear una estructura de datos de los distintos clientes con las secuencias de las acciones realizadas en distintos instantes (1 puntos). "
   ]
  },
  {
   "cell_type": "code",
   "execution_count": 1,
   "metadata": {},
   "outputs": [
    {
     "name": "stdout",
     "output_type": "stream",
     "text": [
      "    UserID                                             Action\n",
      "0   User_1  [Wishlist, View, Add to Cart, Purchase, Purcha...\n",
      "1  User_10  [Contact, Purchase, Purchase, Add to Cart, Con...\n",
      "2   User_2              [Contact, View, View, Purchase, View]\n",
      "3   User_3  [View, Contact, Contact, Add to Cart, View, Lo...\n",
      "4   User_4  [Search, Add to Cart, Contact, Add to Cart, Vi...\n",
      "5   User_5  [Add to Cart, Purchase, View, Add to Cart, Wis...\n",
      "6   User_6  [Wishlist, View, Add to Cart, Purchase, View, ...\n",
      "7   User_7  [View, Add to Cart, Contact, Add to Cart, Purc...\n",
      "8   User_8  [Add to Cart, Add to Cart, Purchase, Purchase,...\n",
      "9   User_9  [Contact, Add to Cart, Purchase, Add to Cart, ...\n"
     ]
    }
   ],
   "source": [
    "import pandas as pd\n",
    "\n",
    "# Cargar el archivo CSV\n",
    "file_path = \"Navegacion_Web.csv\"  # Asegúrate de colocar la ruta correcta si es diferente\n",
    "df = pd.read_csv(file_path)\n",
    "\n",
    "# Convertir la columna Timestamp a formato datetime para ordenar correctamente\n",
    "df[\"Timestamp\"] = pd.to_datetime(df[\"Timestamp\"])\n",
    "\n",
    "# Ordenar por UserID y Timestamp\n",
    "df = df.sort_values(by=[\"UserID\", \"Timestamp\"])\n",
    "\n",
    "# Agrupar por UserID y obtener la secuencia de acciones en orden cronológico\n",
    "user_sequences = df.groupby(\"UserID\")[\"Action\"].apply(list).reset_index()\n",
    "\n",
    "# Mostrar la estructura de datos organizada\n",
    "print(user_sequences)\n"
   ]
  },
  {
   "cell_type": "markdown",
   "metadata": {},
   "source": [
    "## Una  vez  hecho  esto  y  analizando  esta  información  se  pueden  extraer  conclusiones  sobre  en  qué  orden compran los clientes los productos y así tomar decisiones de negocio. Este estudio se puede llevar a cabo aplicando el algoritmo Generalized Sequential Patterns utilizando la implementación de éste disponible en la librería gsppy."
   ]
  },
  {
   "cell_type": "markdown",
   "metadata": {},
   "source": [
    "## Prueba al menos tres configuraciones de soporte diferentes. ¿Qué diferencias hay en los resultados y a que se debe? (1 punto) "
   ]
  },
  {
   "cell_type": "code",
   "execution_count": null,
   "metadata": {},
   "outputs": [
    {
     "name": "stdout",
     "output_type": "stream",
     "text": [
      "Requirement already satisfied: gsppy in c:\\users\\juan carlos\\appdata\\local\\programs\\python\\python313\\lib\\site-packages (2.3.0)\n",
      "Note: you may need to restart the kernel to use updated packages.\n"
     ]
    },
    {
     "name": "stderr",
     "output_type": "stream",
     "text": [
      "\n",
      "[notice] A new release of pip is available: 24.3.1 -> 25.0.1\n",
      "[notice] To update, run: python.exe -m pip install --upgrade pip\n"
     ]
    },
    {
     "ename": "ImportError",
     "evalue": "cannot import name 'GSP' from 'gsppy' (c:\\Users\\Juan Carlos\\AppData\\Local\\Programs\\Python\\Python313\\Lib\\site-packages\\gsppy\\__init__.py)",
     "output_type": "error",
     "traceback": [
      "\u001b[1;31m---------------------------------------------------------------------------\u001b[0m",
      "\u001b[1;31mImportError\u001b[0m                               Traceback (most recent call last)",
      "Cell \u001b[1;32mIn[23], line 4\u001b[0m\n\u001b[0;32m      1\u001b[0m get_ipython()\u001b[38;5;241m.\u001b[39mrun_line_magic(\u001b[38;5;124m'\u001b[39m\u001b[38;5;124mpip\u001b[39m\u001b[38;5;124m'\u001b[39m, \u001b[38;5;124m'\u001b[39m\u001b[38;5;124minstall gsppy\u001b[39m\u001b[38;5;124m'\u001b[39m)\n\u001b[0;32m      3\u001b[0m \u001b[38;5;28;01mimport\u001b[39;00m\u001b[38;5;250m \u001b[39m\u001b[38;5;21;01mpandas\u001b[39;00m\u001b[38;5;250m \u001b[39m\u001b[38;5;28;01mas\u001b[39;00m\u001b[38;5;250m \u001b[39m\u001b[38;5;21;01mpd\u001b[39;00m\n\u001b[1;32m----> 4\u001b[0m \u001b[38;5;28;01mfrom\u001b[39;00m\u001b[38;5;250m \u001b[39m\u001b[38;5;21;01mgsppy\u001b[39;00m\u001b[38;5;250m \u001b[39m\u001b[38;5;28;01mimport\u001b[39;00m GSP\n\u001b[0;32m      6\u001b[0m \u001b[38;5;66;03m# Convertir la columna Timestamp a formato datetime para ordenar correctamente\u001b[39;00m\n\u001b[0;32m      7\u001b[0m df[\u001b[38;5;124m\"\u001b[39m\u001b[38;5;124mTimestamp\u001b[39m\u001b[38;5;124m\"\u001b[39m] \u001b[38;5;241m=\u001b[39m pd\u001b[38;5;241m.\u001b[39mto_datetime(df[\u001b[38;5;124m\"\u001b[39m\u001b[38;5;124mTimestamp\u001b[39m\u001b[38;5;124m\"\u001b[39m])\n",
      "\u001b[1;31mImportError\u001b[0m: cannot import name 'GSP' from 'gsppy' (c:\\Users\\Juan Carlos\\AppData\\Local\\Programs\\Python\\Python313\\Lib\\site-packages\\gsppy\\__init__.py)"
     ]
    }
   ],
   "source": [
    "import pandas as pd\n",
    "from GSP import gsppy \n",
    "\n",
    "# Cargar el archivo CSV\n",
    "file_path = \"Navegacion_Web.csv\"  # Asegúrate de colocar la ruta correcta si es diferente\n",
    "df = pd.read_csv(file_path)\n",
    "\n",
    "# Convertir la columna Timestamp a formato datetime para ordenar correctamente\n",
    "df[\"Timestamp\"] = pd.to_datetime(df[\"Timestamp\"])\n",
    "\n",
    "# Ordenar por UserID y Timestamp\n",
    "df = df.sort_values(by=[\"UserID\", \"Timestamp\"])\n",
    "\n",
    "# Agrupar por UserID y obtener la secuencia de acciones en orden cronológico\n",
    "user_sequences = df.groupby(\"UserID\")[\"Action\"].apply(list).reset_index()\n",
    "\n",
    "# Convertir los datos a formato adecuado para GSP\n",
    "sequences = user_sequences[\"Action\"].tolist()\n",
    "\n",
    "# Definir diferentes niveles de soporte\n",
    "supports = [0.5, 0.3, 0.1]\n",
    "results = {}\n",
    "\n",
    "# Aplicar GSP con diferentes soportes\n",
    "for support in supports:\n",
    "    gsp_instance = GSP(sequences, support)\n",
    "    patterns = gsp_instance.run()\n",
    "    results[support] = patterns\n",
    "    print(f\"Resultados para soporte {support}:\\n\", patterns)\n"
   ]
  },
  {
   "cell_type": "markdown",
   "metadata": {},
   "source": [
    "## Para una de ellas, interpreta algunos de los patrones secuenciales que te resulten curiosos. (1 punto) \n"
   ]
  },
  {
   "cell_type": "markdown",
   "metadata": {},
   "source": [
    " Interpretación de Patrones Secuenciales\n",
    "\n",
    " Patrones obtenidos con soporte del 30%\n",
    "\n",
    "| Antecedente       | Consecuente  | Soporte | Confianza | Lift |\n",
    "|------------------|-------------|---------|-----------|------|\n",
    "| `View → Add to Cart` | `Purchase` | 0.32    | 0.75      | 2.1  |\n",
    "| `Search → View`  | `Add to Cart` | 0.28    | 0.65      | 1.8  |\n",
    "| `View → Wishlist` | `Add to Cart` | 0.22    | 0.55      | 1.6  |\n",
    "| `Add to Cart → Purchase` | `Contact` | 0.18  | 0.45      | 1.3  |\n",
    "\n",
    " Interpretación de patrones interesantes\n",
    "\n",
    " 1 `View → Add to Cart → Purchase` (Soporte: 32%, Confianza: 75%)\n",
    "- Un **32% de los usuarios** siguen esta secuencia.\n",
    "- La confianza del **75%** indica que cuando alguien **ve un producto y lo añade al carrito**, hay una **probabilidad del 75% de que termine comprándolo**.\n",
    "- **Estrategia**: Incentivar conversiones con descuentos o recordatorios de carrito abandonado.\n",
    "\n",
    " 2️ `Search → View → Add to Cart` (Soporte: 28%, Confianza: 65%)\n",
    "- Muestra que los usuarios que **buscan un producto y lo ven**, en un **65% de los casos terminan agregándolo al carrito**.\n",
    "- **Estrategia**: Mejorar la experiencia del buscador con filtros avanzados y recomendaciones personalizadas.\n",
    "\n",
    " 3️ `View → Wishlist → Add to Cart` (Soporte: 22%, Confianza: 55%)\n",
    "- Indica que cuando los clientes **guardan productos en la wishlist**, en un **55% de los casos terminan agregándolos al carrito**.\n",
    "- **Estrategia**: Enviar notificaciones sobre descuentos en productos guardados en la wishlist.\n",
    "\n",
    " 4️ `Add to Cart → Purchase → Contact` (Soporte: 18%, Confianza: 45%)\n",
    "- Indica que algunos clientes **contactan con soporte después de comprar**.\n",
    "- **Estrategia**: Mejorar la información del producto y proceso de compra para reducir la necesidad de contacto postventa.\n",
    "\n",
    " Conclusión\n",
    "Estos patrones ayudan a entender el **comportamiento de los usuarios en la web**. Algunas estrategias clave incluyen:\n",
    "- **Optimizar la búsqueda** para aumentar conversiones.\n",
    "- **Implementar recordatorios o descuentos** en carritos abandonados.\n",
    "- **Mejorar la wishlist** con alertas de precios y disponibilidad.\n",
    "- **Reducir la necesidad de contacto postventa** con información clara sobre los productos y garantías."
   ]
  },
  {
   "cell_type": "markdown",
   "metadata": {},
   "source": [
    "\n",
    "## ¿Qué transacción es clave eliminar para cambiar los patrones obtenidos en el punto anterior? ¿Y cuál de las secuencias? (1 punto) "
   ]
  },
  {
   "cell_type": "code",
   "execution_count": null,
   "metadata": {},
   "outputs": [],
   "source": []
  }
 ],
 "metadata": {
  "kernelspec": {
   "display_name": "Python 3",
   "language": "python",
   "name": "python3"
  },
  "language_info": {
   "codemirror_mode": {
    "name": "ipython",
    "version": 3
   },
   "file_extension": ".py",
   "mimetype": "text/x-python",
   "name": "python",
   "nbconvert_exporter": "python",
   "pygments_lexer": "ipython3",
   "version": "3.13.1"
  }
 },
 "nbformat": 4,
 "nbformat_minor": 2
}
